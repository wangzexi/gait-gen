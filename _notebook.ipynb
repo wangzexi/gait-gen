{
 "cells": [
  {
   "cell_type": "code",
   "execution_count": 2,
   "metadata": {},
   "outputs": [],
   "source": [
    "import torch\n",
    "import numpy as np"
   ]
  },
  {
   "cell_type": "code",
   "execution_count": 134,
   "metadata": {},
   "outputs": [
    {
     "name": "stdout",
     "output_type": "stream",
     "text": [
      "tensor([0., 1., 0., 1., 1.])\n",
      "torch.Size([2, 5, 2])\n",
      "torch.Size([2, 5, 2])\n",
      "torch.Size([2, 3, 2])\n",
      "tensor([[[ 0.,  0.],\n",
      "         [ 2.,  3.],\n",
      "         [ 0.,  0.],\n",
      "         [ 6.,  7.],\n",
      "         [ 8.,  9.]],\n",
      "\n",
      "        [[ 0.,  0.],\n",
      "         [12., 13.],\n",
      "         [ 0.,  0.],\n",
      "         [16., 17.],\n",
      "         [18., 19.]]])\n"
     ]
    }
   ],
   "source": [
    "b, n, c = 2,5,2\n",
    "\n",
    "dataset_x = torch.arange(0,20, dtype=torch.float32).reshape(b,n,c)\n",
    "# print(dataset_x)\n",
    "\n",
    "ratio = 0.6\n",
    "real_n = int(n*ratio)\n",
    "masked_n = n-real_n\n",
    "\n",
    "zeros = torch.zeros(masked_n)\n",
    "ones = torch.ones(real_n)\n",
    "mask = torch.cat([zeros, ones], dim=0)\n",
    "mask = mask[torch.randperm(n)]\n",
    "print(mask)\n",
    "\n",
    "mask = mask[None, :, None]\n",
    "mask = mask.expand(b, n, c)\n",
    "\n",
    "print(dataset_x.shape)\n",
    "print(mask.shape)\n",
    "\n",
    "# dataset_x位置编码\n",
    "masked_x = dataset_x.masked_select(mask.eq(1))\n",
    "masked_x = masked_x.reshape(b, real_n, c)\n",
    "print(masked_x.shape)\n",
    "\n",
    "\n",
    "recovery_x = torch.zeros(b,n,c) # 可学习占位符\n",
    "# recovery_x位置编码\n",
    "recovery_x = recovery_x.masked_scatter(mask.eq(1), masked_x)\n",
    "print(recovery_x)\n"
   ]
  },
  {
   "cell_type": "code",
   "execution_count": null,
   "metadata": {},
   "outputs": [],
   "source": [
    "x = torch.FloatTensor([5,6,7,8,9])\n",
    "# x = x + position_embedding\n",
    "print(x)\n",
    "\n",
    "masked_x = torch.masked_select(x, mask.eq(1)) # 送入Encoder\n",
    "print(masked_x)\n",
    "\n",
    "recovery_x = torch.zeros(5)\n",
    "# recovery_x = recovery_x + position_embedding\n",
    "\n",
    "recovery_x = recovery_x.masked_scatter(mask.eq(1), masked_x)\n",
    "print(recovery_x) # 送入Decoder"
   ]
  },
  {
   "cell_type": "code",
   "execution_count": 36,
   "metadata": {},
   "outputs": [
    {
     "name": "stdout",
     "output_type": "stream",
     "text": [
      "torch.Size([17, 1, 28, 28])\n",
      "tensor([9, 4, 1, 9, 6, 8, 9, 1, 1, 4, 9, 1, 1, 7, 3, 3, 4])\n",
      "torch.int64\n"
     ]
    }
   ],
   "source": [
    "from torchvision import datasets, transforms\n",
    "\n",
    "dataset = datasets.MNIST(\n",
    "    root='./dataset', train=True, download=True,\n",
    "    transform=transforms.Compose([\n",
    "        transforms.ToTensor(),\n",
    "        transforms.Normalize((0.1307,), (0.3081,))\n",
    "    ]))\n",
    "\n",
    "def collate_fn(data):\n",
    "\n",
    "    return [\n",
    "        torch.stack([x[0] for x in data]),\n",
    "        torch.stack([torch.tensor(x[1]) for x in data])\n",
    "    ]\n",
    "\n",
    "dataloader = torch.utils.data.DataLoader(dataset, batch_size=17, shuffle=True, collate_fn=collate_fn)\n",
    "\n",
    "for batch in dataloader:\n",
    "    x, y = batch\n",
    "    print(x.shape)\n",
    "    print(y)\n",
    "    print(y.dtype)\n",
    "    break\n"
   ]
  }
 ],
 "metadata": {
  "interpreter": {
   "hash": "461605a630bdb91cdcd6838e390b39ddd0c1225cb77fba719f31fd8115279f3b"
  },
  "kernelspec": {
   "display_name": "Python 3.9.7 64-bit ('py39': conda)",
   "language": "python",
   "name": "python3"
  },
  "language_info": {
   "codemirror_mode": {
    "name": "ipython",
    "version": 3
   },
   "file_extension": ".py",
   "mimetype": "text/x-python",
   "name": "python",
   "nbconvert_exporter": "python",
   "pygments_lexer": "ipython3",
   "version": "3.9.7"
  },
  "orig_nbformat": 4
 },
 "nbformat": 4,
 "nbformat_minor": 2
}
